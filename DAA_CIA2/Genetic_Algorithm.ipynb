{
 "cells": [
  {
   "cell_type": "markdown",
   "id": "004c2b20",
   "metadata": {},
   "source": [
    "## Genetic Algorithm"
   ]
  },
  {
   "cell_type": "code",
   "execution_count": 38,
   "id": "45f572b4",
   "metadata": {},
   "outputs": [],
   "source": [
    "import tensorflow as tf\n",
    "import numpy as np\n",
    "import random\n",
    "import pandas as pd"
   ]
  },
  {
   "cell_type": "code",
   "execution_count": 39,
   "id": "0e9134ba",
   "metadata": {},
   "outputs": [
    {
     "data": {
      "text/html": [
       "<div>\n",
       "<style scoped>\n",
       "    .dataframe tbody tr th:only-of-type {\n",
       "        vertical-align: middle;\n",
       "    }\n",
       "\n",
       "    .dataframe tbody tr th {\n",
       "        vertical-align: top;\n",
       "    }\n",
       "\n",
       "    .dataframe thead th {\n",
       "        text-align: right;\n",
       "    }\n",
       "</style>\n",
       "<table border=\"1\" class=\"dataframe\">\n",
       "  <thead>\n",
       "    <tr style=\"text-align: right;\">\n",
       "      <th></th>\n",
       "      <th>ID</th>\n",
       "      <th>Age</th>\n",
       "      <th>Experience</th>\n",
       "      <th>Income</th>\n",
       "      <th>ZIP Code</th>\n",
       "      <th>Family</th>\n",
       "      <th>CCAvg</th>\n",
       "      <th>Education</th>\n",
       "      <th>Mortgage</th>\n",
       "      <th>Personal Loan</th>\n",
       "      <th>Securities Account</th>\n",
       "      <th>CD Account</th>\n",
       "      <th>Online</th>\n",
       "      <th>CreditCard</th>\n",
       "    </tr>\n",
       "  </thead>\n",
       "  <tbody>\n",
       "    <tr>\n",
       "      <th>0</th>\n",
       "      <td>1</td>\n",
       "      <td>25</td>\n",
       "      <td>1</td>\n",
       "      <td>49</td>\n",
       "      <td>91107</td>\n",
       "      <td>4</td>\n",
       "      <td>1.6</td>\n",
       "      <td>1</td>\n",
       "      <td>0</td>\n",
       "      <td>0</td>\n",
       "      <td>1</td>\n",
       "      <td>0</td>\n",
       "      <td>0</td>\n",
       "      <td>0</td>\n",
       "    </tr>\n",
       "    <tr>\n",
       "      <th>1</th>\n",
       "      <td>2</td>\n",
       "      <td>45</td>\n",
       "      <td>19</td>\n",
       "      <td>34</td>\n",
       "      <td>90089</td>\n",
       "      <td>3</td>\n",
       "      <td>1.5</td>\n",
       "      <td>1</td>\n",
       "      <td>0</td>\n",
       "      <td>0</td>\n",
       "      <td>1</td>\n",
       "      <td>0</td>\n",
       "      <td>0</td>\n",
       "      <td>0</td>\n",
       "    </tr>\n",
       "    <tr>\n",
       "      <th>2</th>\n",
       "      <td>3</td>\n",
       "      <td>39</td>\n",
       "      <td>15</td>\n",
       "      <td>11</td>\n",
       "      <td>94720</td>\n",
       "      <td>1</td>\n",
       "      <td>1.0</td>\n",
       "      <td>1</td>\n",
       "      <td>0</td>\n",
       "      <td>0</td>\n",
       "      <td>0</td>\n",
       "      <td>0</td>\n",
       "      <td>0</td>\n",
       "      <td>0</td>\n",
       "    </tr>\n",
       "    <tr>\n",
       "      <th>3</th>\n",
       "      <td>4</td>\n",
       "      <td>35</td>\n",
       "      <td>9</td>\n",
       "      <td>100</td>\n",
       "      <td>94112</td>\n",
       "      <td>1</td>\n",
       "      <td>2.7</td>\n",
       "      <td>2</td>\n",
       "      <td>0</td>\n",
       "      <td>0</td>\n",
       "      <td>0</td>\n",
       "      <td>0</td>\n",
       "      <td>0</td>\n",
       "      <td>0</td>\n",
       "    </tr>\n",
       "    <tr>\n",
       "      <th>4</th>\n",
       "      <td>5</td>\n",
       "      <td>35</td>\n",
       "      <td>8</td>\n",
       "      <td>45</td>\n",
       "      <td>91330</td>\n",
       "      <td>4</td>\n",
       "      <td>1.0</td>\n",
       "      <td>2</td>\n",
       "      <td>0</td>\n",
       "      <td>0</td>\n",
       "      <td>0</td>\n",
       "      <td>0</td>\n",
       "      <td>0</td>\n",
       "      <td>1</td>\n",
       "    </tr>\n",
       "  </tbody>\n",
       "</table>\n",
       "</div>"
      ],
      "text/plain": [
       "   ID  Age  Experience  Income  ZIP Code  Family  CCAvg  Education  Mortgage  \\\n",
       "0   1   25           1      49     91107       4    1.6          1         0   \n",
       "1   2   45          19      34     90089       3    1.5          1         0   \n",
       "2   3   39          15      11     94720       1    1.0          1         0   \n",
       "3   4   35           9     100     94112       1    2.7          2         0   \n",
       "4   5   35           8      45     91330       4    1.0          2         0   \n",
       "\n",
       "   Personal Loan  Securities Account  CD Account  Online  CreditCard  \n",
       "0              0                   1           0       0           0  \n",
       "1              0                   1           0       0           0  \n",
       "2              0                   0           0       0           0  \n",
       "3              0                   0           0       0           0  \n",
       "4              0                   0           0       0           1  "
      ]
     },
     "execution_count": 39,
     "metadata": {},
     "output_type": "execute_result"
    }
   ],
   "source": [
    "df = pd.read_csv(r\"C:\\Users\\91755\\Downloads\\Bank_Personal_Loan_Modelling.csv\")\n",
    "df.head()"
   ]
  },
  {
   "cell_type": "code",
   "execution_count": 40,
   "id": "1903ae52",
   "metadata": {},
   "outputs": [],
   "source": [
    "x = df.loc[:, df.columns != 'Personal Loan'].values\n",
    "y = df.loc[:,df.columns == 'Personal Loan'].values"
   ]
  },
  {
   "cell_type": "code",
   "execution_count": 41,
   "id": "eb0201bf",
   "metadata": {},
   "outputs": [],
   "source": [
    "from sklearn.model_selection import train_test_split\n",
    "\n",
    "X_train, X_test, y_train, y_test = train_test_split(x,y, test_size=0.2)\n"
   ]
  },
  {
   "cell_type": "code",
   "execution_count": 42,
   "id": "3bdd9e00",
   "metadata": {},
   "outputs": [],
   "source": [
    "def create_model():\n",
    "    model = tf.keras.models.Sequential([\n",
    "        tf.keras.layers.Dense(64, activation='relu', input_shape=(13,)),\n",
    "        tf.keras.layers.Dense(32, activation='relu'),\n",
    "        tf.keras.layers.Dense(3, activation='softmax')\n",
    "    ])\n",
    "    return model"
   ]
  },
  {
   "cell_type": "code",
   "execution_count": 43,
   "id": "e81e5795",
   "metadata": {},
   "outputs": [],
   "source": [
    "def evaluate_fitness(model, X_test, y_test):\n",
    "    _, accuracy = model.evaluate(X_test, y_test, verbose=0)\n",
    "    return accuracy\n"
   ]
  },
  {
   "cell_type": "code",
   "execution_count": 44,
   "id": "5c6ce28a",
   "metadata": {},
   "outputs": [],
   "source": [
    "def generate_weights(model):\n",
    "    return [np.random.randn(*w.shape) for w in model.get_weights()]\n",
    "\n",
    "def mutate_weights(weights, mutation_rate):\n",
    "    for i, w in enumerate(weights):\n",
    "        if random.random() < mutation_rate:\n",
    "            weights[i] += np.random.randn(*w.shape) * 0.1\n",
    "    return weights\n",
    "\n",
    "def breed_weights(weights1, weights2):\n",
    "    return [((w1 + w2) / 2.0) for w1, w2 in zip(weights1, weights2)]"
   ]
  },
  {
   "cell_type": "code",
   "execution_count": 45,
   "id": "f5bc3047",
   "metadata": {},
   "outputs": [],
   "source": [
    "def genetic_algorithm(model, X_train, y_train, X_test, y_test, population_size=20, num_generations=10 , mutation_rate=0.1):\n",
    "    population = [generate_weights(model) for _ in range(population_size)]\n",
    "    for generation in range(num_generations):\n",
    "        print(f\"Generation {generation}\")\n",
    "        fitness_scores = []\n",
    "        for weights in population:\n",
    "            model = create_model()\n",
    "            model.compile(loss='sparse_categorical_crossentropy', optimizer='adam', metrics=['accuracy'])    \n",
    "            model.set_weights(weights)\n",
    "            fitness_scores.append((evaluate_fitness(model,X_test,y_test),weights))\n",
    "        reversed(fitness_scores)\n",
    "        print(f\"Best score: {fitness_scores[0][0]}\")\n",
    "        next_generation = [fitness_scores[0][1]]\n",
    "        while len(next_generation) < population_size:\n",
    "            parent1, parent2 = random.choices(population, weights=[score[0] for score in fitness_scores], k=2)\n",
    "            child = breed_weights(parent1, parent2)\n",
    "            child = mutate_weights(child, mutation_rate)\n",
    "            next_generation.append(child)\n",
    "        population = next_generation\n"
   ]
  },
  {
   "cell_type": "code",
   "execution_count": 37,
   "id": "09bdfa1c",
   "metadata": {},
   "outputs": [
    {
     "name": "stdout",
     "output_type": "stream",
     "text": [
      "Generation 0\n",
      "Best score: 0.0\n",
      "Generation 1\n",
      "Best score: 0.0\n",
      "Generation 2\n",
      "Best score: 0.0\n",
      "Generation 3\n",
      "Best score: 0.0\n",
      "Generation 4\n",
      "Best score: 0.0\n",
      "Generation 5\n",
      "Best score: 0.0\n",
      "Generation 6\n",
      "Best score: 0.0\n",
      "Generation 7\n",
      "Best score: 0.0\n",
      "Generation 8\n",
      "Best score: 0.0\n",
      "Generation 9\n",
      "Best score: 0.0\n"
     ]
    }
   ],
   "source": [
    "model = create_model()\n",
    "model.compile(loss='sparse_categorical_crossentropy', optimizer='adam', metrics=['accuracy'])\n",
    "\n",
    "genetic_algorithm(model, X_train, y_train, X_test, y_test)"
   ]
  },
  {
   "cell_type": "code",
   "execution_count": null,
   "id": "a3da86d1",
   "metadata": {},
   "outputs": [],
   "source": []
  }
 ],
 "metadata": {
  "kernelspec": {
   "display_name": "Python 3 (ipykernel)",
   "language": "python",
   "name": "python3"
  },
  "language_info": {
   "codemirror_mode": {
    "name": "ipython",
    "version": 3
   },
   "file_extension": ".py",
   "mimetype": "text/x-python",
   "name": "python",
   "nbconvert_exporter": "python",
   "pygments_lexer": "ipython3",
   "version": "3.9.6"
  }
 },
 "nbformat": 4,
 "nbformat_minor": 5
}
